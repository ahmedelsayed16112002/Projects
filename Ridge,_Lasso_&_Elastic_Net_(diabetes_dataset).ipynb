{
  "nbformat": 4,
  "nbformat_minor": 0,
  "metadata": {
    "colab": {
      "provenance": [],
      "authorship_tag": "ABX9TyO7wNbR2GPY/8HYkIxVdYUS",
      "include_colab_link": true
    },
    "kernelspec": {
      "name": "python3",
      "display_name": "Python 3"
    },
    "language_info": {
      "name": "python"
    }
  },
  "cells": [
    {
      "cell_type": "markdown",
      "metadata": {
        "id": "view-in-github",
        "colab_type": "text"
      },
      "source": [
        "<a href=\"https://colab.research.google.com/github/ahmedelsayed16112002/Projects/blob/main/Ridge%2C_Lasso_%26_Elastic_Net_(diabetes_dataset).ipynb\" target=\"_parent\"><img src=\"https://colab.research.google.com/assets/colab-badge.svg\" alt=\"Open In Colab\"/></a>"
      ]
    },
    {
      "cell_type": "markdown",
      "source": [
        "# Regularization Techniques in Linear Regression\n",
        "\n",
        "In machine learning, regularization techniques are used to reduce overfitting and improve the generalization of models. Regularization adds a penalty to the cost function, discouraging complex models with large coefficients. In this section, we’ll cover three common regularization techniques used in linear regression: **Ridge Regression**, **Lasso Regression**, and **Elastic Net Regression**.\n",
        "\n",
        "## 1. Ridge Regression (L2 Regularization)\n",
        "\n",
        "Ridge regression, also known as **L2 regularization**, adds a penalty to the least squares loss function by shrinking the coefficients. The penalty is proportional to the square of the magnitude of the coefficients, which helps reduce the model’s complexity and mitigate multicollinearity.\n",
        "\n",
        "### Formula:\n",
        "\\[\n",
        "\\min_{\\beta} \\sum_{i=1}^{n} \\left( y_i - \\sum_{j=1}^{p} X_{ij} \\beta_j \\right)^2 + \\lambda_1 \\sum_{j=1}^{p} \\beta_j^2\n",
        "\\]\n",
        "\n",
        "- The first term represents the ordinary least squares (OLS) loss, which minimizes the difference between the predicted and actual values.\n",
        "- The second term is the **L2 penalty**, which shrinks the magnitude of the coefficients \\(\\beta_j\\).\n",
        "- **Effect:** This reduces overfitting by penalizing large coefficients but **keeps all variables** in the model (no feature selection).\n",
        "\n",
        "---\n",
        "\n",
        "## 2. Lasso Regression (L1 Regularization)\n",
        "\n",
        "Lasso regression, also known as **L1 regularization**, adds a penalty to the least squares loss function that is proportional to the **absolute value** of the coefficients. This regularization technique not only shrinks the coefficients but can also set some coefficients to **zero**, effectively removing certain features from the model.\n",
        "\n",
        "### Formula:\n",
        "\\[\n",
        "\\min_{\\beta} \\sum_{i=1}^{n} \\left( y_i - \\sum_{j=1}^{p} X_{ij} \\beta_j \\right)^2 + \\lambda_2 \\sum_{j=1}^{p} |\\beta_j|\n",
        "\\]\n",
        "\n",
        "- The first term is the ordinary least squares (OLS) loss.\n",
        "- The second term is the **L1 penalty**, which encourages sparsity by shrinking some coefficients to zero.\n",
        "- **Effect:** Performs feature selection by eliminating less important variables, leading to a simpler, more interpretable model.\n",
        "\n",
        "---\n",
        "\n",
        "## 3. Elastic Net Regression\n",
        "\n",
        "Elastic Net regression combines both **L1 (Lasso)** and **L2 (Ridge)** regularization, balancing the benefits of both methods. It has two parameters, \\(\\lambda_1\\) and \\(\\lambda_2\\), which control the strength of the penalties.\n",
        "\n",
        "### Formula:\n",
        "\\[\n",
        "\\min_{\\beta} \\sum_{i=1}^{n} \\left( y_i - \\sum_{j=1}^{p} X_{ij} \\beta_j \\right)^2 + \\lambda_1 \\sum_{j=1}^{p} \\beta_j^2 + \\lambda_2 \\sum_{j=1}^{p} |\\beta_j|\n",
        "\\]\n",
        "\n",
        "- The first term represents the ordinary least squares (OLS) loss.\n",
        "- The second term is the **L2 penalty** (Ridge), which shrinks coefficients.\n",
        "- The third term is the **L1 penalty** (Lasso), which encourages sparsity.\n",
        "- **Effect:** Elastic Net provides a balance between Ridge and Lasso, making it a good choice when dealing with highly correlated features.\n",
        "\n",
        "### Special Cases:\n",
        "- When **\\(\\lambda_1 > 0\\) and \\(\\lambda_2 = 0\\)**, Elastic Net reduces to **Ridge Regression**.\n",
        "- When **\\(\\lambda_1 = 0\\) and \\(\\lambda_2 > 0\\)**, Elastic Net reduces to **Lasso Regression**.\n",
        "- When **\\(\\lambda_1 > 0\\) and \\(\\lambda_2 > 0\\)**, it combines both Ridge and Lasso effects.\n",
        "\n",
        "---\n",
        "\n",
        "## Key Differences\n",
        "\n",
        "| Regression Type  | Regularization Term          | Effect on Coefficients     | Feature Selection? |\n",
        "|------------------|-----------------------------|----------------------------|--------------------|\n",
        "| **Ridge** (L2)   | \\( \\lambda_1 \\sum \\beta_j^2 \\) | Shrinks coefficients       | ❌ No |\n",
        "| **Lasso** (L1)   | \\( \\lambda_2 \\sum |\\beta_j| \\) | Shrinks, some to zero      | ✅ Yes |\n",
        "| **Elastic Net**  | \\( \\lambda_1 \\sum \\beta_j^2 + \\lambda_2 \\sum |\\beta_j| \\) | Shrinks, some to zero      | ✅ Yes |\n",
        "\n",
        "---\n",
        "\n",
        "These regularization techniques help to improve the performance and interpretability of linear regression models, especially when dealing with high-dimensional data or multicollinearity. By adjusting the values of \\(\\lambda_1\\) and \\(\\lambda_2\\), we can control the trade-off between bias and variance, leading to better generalization on unseen data.\n",
        "\n",
        "Let’s dive deeper into each of these techniques with examples and their applications in machine learning.\n"
      ],
      "metadata": {
        "id": "zVdf_46wPmB8"
      }
    },
    {
      "cell_type": "markdown",
      "source": [
        "## Important Resources\n",
        "\n",
        "For a deeper understanding of regularization, L1 and L2 norms, and their effects on models, check out the following resource:\n",
        "\n",
        "- [Visualizing Regularization and the L1 and L2 Norms](http://medium.com/towards-data-science/visualizing-regularization-and-the-l1-and-l2-norms-d962aa769932) - A comprehensive article on the topic, offering visualizations and insights into regularization techniques.\n"
      ],
      "metadata": {
        "id": "tVyUlF6UVtAM"
      }
    },
    {
      "cell_type": "markdown",
      "source": [
        "Difference between Elastic Net and Lasso in handling correlation\n",
        "Lasso (L1) tends to select one feature from a group of correlated features and shrink the others to zero. This can be problematic because it ignores useful features.\n",
        "Elastic Net (L1 + L2) avoids this issue by using the L2 penalty, which allows multiple correlated features to stay in the model with reduced but nonzero coefficients.\n",
        "So, Elastic Net is better when features are strongly correlated because it keeps related features instead of dropping them randomly like Lasso does."
      ],
      "metadata": {
        "id": "2Mz2u5o0X_9A"
      }
    },
    {
      "cell_type": "markdown",
      "source": [
        "Soft selection instead of hard selection\n",
        "\n",
        "Lasso (L1 alone) picks one feature and shrinks others to exactly zero because the absolute value function encourages sparsity.\n",
        "Elastic Net blends L1 and L2, meaning it still prefers sparse solutions but not as aggressively as Lasso.\n",
        "Grouping effect\n",
        "\n",
        "One key feature of Elastic Net is that it tends to keep groups of correlated features together, rather than selecting just one.\n",
        "This happens because L2 encourages small but nonzero coefficients for correlated variables instead of eliminating them."
      ],
      "metadata": {
        "id": "oNuGTfm7YoBo"
      }
    },
    {
      "cell_type": "markdown",
      "source": [
        "R² (Coefficient of Determination):\n",
        "R² represents the proportion of the variance in the dependent variable that is predictable from the independent variables.\n",
        "Good R²:\n",
        "Close to 1: A value near 1 indicates a very good fit, meaning the model explains most of the variance in the target variable.\n",
        "0.7 and above: Generally considered good in many real-world scenarios.\n",
        "Bad R²:\n",
        "Close to 0: Indicates a very poor fit, meaning the model explains almost none of the variance in the target variable.\n",
        "Negative R²: Occurs when the model performs worse than simply predicting the mean of the target variable (i.e., the model doesn't even fit the data).\n",
        "MSE (Mean Squared Error):\n",
        "MSE measures the average squared difference between actual and predicted values. The lower the MSE, the better the model's performance.\n",
        "Good MSE:\n",
        "Closer to 0: A smaller MSE indicates that the model's predictions are close to the true values, so lower values are better.\n",
        "Bad MSE:\n",
        "High MSE: A high MSE means large errors in predictions. What counts as \"high\" depends on the scale of your target variable."
      ],
      "metadata": {
        "id": "hs7Q5lqonHf5"
      }
    },
    {
      "cell_type": "code",
      "execution_count": 38,
      "metadata": {
        "id": "q0xcmv0DNaEM"
      },
      "outputs": [],
      "source": [
        "\n",
        "import pandas as pd\n",
        "import numpy as np\n",
        "import matplotlib.pyplot as plt\n",
        "%matplotlib inline\n",
        "\n",
        "from sklearn.model_selection import train_test_split\n",
        "from sklearn.preprocessing import StandardScaler\n",
        "from sklearn.linear_model import LinearRegression, Ridge, Lasso, ElasticNet\n",
        "from sklearn.metrics import r2_score\n",
        "from sklearn.model_selection import cross_val_score, GridSearchCV"
      ]
    },
    {
      "cell_type": "code",
      "source": [
        "import warnings\n",
        "\n",
        "warnings.filterwarnings('ignore', category = DeprecationWarning)\n",
        "from warnings import filterwarnings\n",
        "filterwarnings('ignore')"
      ],
      "metadata": {
        "id": "UJXU4FgIqwy7"
      },
      "execution_count": 39,
      "outputs": []
    },
    {
      "cell_type": "markdown",
      "source": [
        "# load the dataset"
      ],
      "metadata": {
        "id": "4-KYOKfuruEx"
      }
    },
    {
      "cell_type": "code",
      "source": [
        "from sklearn.datasets import load_diabetes\n",
        "df = load_diabetes()\n",
        "df.keys()"
      ],
      "metadata": {
        "colab": {
          "base_uri": "https://localhost:8080/"
        },
        "id": "j1oaUtkwq8O0",
        "outputId": "10951eff-8b49-46a2-a4cc-0dd62213ca49"
      },
      "execution_count": 40,
      "outputs": [
        {
          "output_type": "execute_result",
          "data": {
            "text/plain": [
              "dict_keys(['data', 'target', 'frame', 'DESCR', 'feature_names', 'data_filename', 'target_filename', 'data_module'])"
            ]
          },
          "metadata": {},
          "execution_count": 40
        }
      ]
    },
    {
      "cell_type": "code",
      "source": [
        "df.feature_names"
      ],
      "metadata": {
        "colab": {
          "base_uri": "https://localhost:8080/"
        },
        "id": "UFDBDzrbr7_h",
        "outputId": "067b5db5-7374-42cd-a6f8-0ea8760850d9"
      },
      "execution_count": 41,
      "outputs": [
        {
          "output_type": "execute_result",
          "data": {
            "text/plain": [
              "['age', 'sex', 'bmi', 'bp', 's1', 's2', 's3', 's4', 's5', 's6']"
            ]
          },
          "metadata": {},
          "execution_count": 41
        }
      ]
    },
    {
      "cell_type": "markdown",
      "source": [
        "# Data processing"
      ],
      "metadata": {
        "id": "Sx0TLme8sKIc"
      }
    },
    {
      "cell_type": "code",
      "source": [
        "X = df.data\n",
        "y = df.target"
      ],
      "metadata": {
        "id": "D47Q-gcnsAGu"
      },
      "execution_count": 42,
      "outputs": []
    },
    {
      "cell_type": "code",
      "source": [
        "scale = StandardScaler()\n",
        "X = scale.fit_transform(X)"
      ],
      "metadata": {
        "id": "auXgvVKvsZaC"
      },
      "execution_count": 43,
      "outputs": []
    },
    {
      "cell_type": "code",
      "source": [
        "X_train, X_test, y_train, y_test = train_test_split(X, y, test_size=0.2, random_state=0)"
      ],
      "metadata": {
        "id": "LlOl9MPOslU8"
      },
      "execution_count": 44,
      "outputs": []
    },
    {
      "cell_type": "markdown",
      "source": [
        "# Linear Regression Model¶\n"
      ],
      "metadata": {
        "id": "cef_GD1vst5z"
      }
    },
    {
      "cell_type": "code",
      "source": [
        "lr = LinearRegression()\n",
        "lr.fit(X_train, y_train)\n",
        "\n",
        "y_pred_training = lr.predict(X_train)\n",
        "y_pred_test = lr.predict(X_test)\n",
        "\n",
        "print('Training R2 Score:', r2_score(y_train, y_pred_training))\n",
        "print('Testing R2 Score:', r2_score(y_test, y_pred_test))"
      ],
      "metadata": {
        "colab": {
          "base_uri": "https://localhost:8080/"
        },
        "id": "AAFzl4rMsrAL",
        "outputId": "346b158e-472c-482b-f459-a4c8ab758934"
      },
      "execution_count": 45,
      "outputs": [
        {
          "output_type": "stream",
          "name": "stdout",
          "text": [
            "Training R2 Score: 0.5539250081377072\n",
            "Testing R2 Score: 0.33223321731061806\n"
          ]
        }
      ]
    },
    {
      "cell_type": "code",
      "source": [
        "mse = cross_val_score(lr, X, y, scoring='neg_mean_squared_error', cv=5)\n",
        "mse_avg = -np.mean(mse)\n",
        "print('MSE:', mse_avg)"
      ],
      "metadata": {
        "colab": {
          "base_uri": "https://localhost:8080/"
        },
        "id": "stWaVB2FtqFa",
        "outputId": "5f28c474-a9e0-41f6-e8d5-be0ddaccc0e4"
      },
      "execution_count": 46,
      "outputs": [
        {
          "output_type": "stream",
          "name": "stdout",
          "text": [
            "MSE: 2993.081310469331\n"
          ]
        }
      ]
    },
    {
      "cell_type": "code",
      "source": [
        "lr.coef_\n"
      ],
      "metadata": {
        "colab": {
          "base_uri": "https://localhost:8080/"
        },
        "id": "ur6sebtStw8S",
        "outputId": "c0c77b56-7cbc-4fba-ca95-5d479db441ce"
      },
      "execution_count": 47,
      "outputs": [
        {
          "output_type": "execute_result",
          "data": {
            "text/plain": [
              "array([ -1.69095299, -11.56618382,  26.76787514,  14.52941617,\n",
              "       -31.5215625 ,  15.42097273,   1.17718013,   8.10153224,\n",
              "        34.80044394,   2.04677265])"
            ]
          },
          "metadata": {},
          "execution_count": 47
        }
      ]
    },
    {
      "cell_type": "code",
      "source": [
        "plt.figure(figsize=(10, 6))\n",
        "plt.bar(df.feature_names, lr.coef_)\n",
        "plt.xlabel('Features')\n",
        "plt.ylabel('Coefficients')\n",
        "plt.title('Linear Regression Coefficients')\n",
        "plt.xticks(rotation=45)\n",
        "plt.show()"
      ],
      "metadata": {
        "colab": {
          "base_uri": "https://localhost:8080/",
          "height": 579
        },
        "id": "OHs3WrTyug4h",
        "outputId": "ebaae29f-bb2c-43fc-b7d7-8ce146bd1880"
      },
      "execution_count": 48,
      "outputs": [
        {
          "output_type": "display_data",
          "data": {
            "text/plain": [
              "<Figure size 1000x600 with 1 Axes>"
            ],
            "image/png": "[encoded data removed]"
          },
          "metadata": {}
        }
      ]
    },
    {
      "cell_type": "markdown",
      "source": [
        "# 2.4 Ridge Regression¶\n"
      ],
      "metadata": {
        "id": "9_DFwlhjuvmZ"
      }
    },
    {
      "cell_type": "code",
      "source": [
        "ridge = Ridge()\n",
        "ridge.fit(X_train, y_train)\n",
        "ridge_pred_tra  = ridge.predict(X_train)\n",
        "ridge_pred_test = ridge.predict(X_test)\n"
      ],
      "metadata": {
        "id": "rCPXAK94unU6"
      },
      "execution_count": 49,
      "outputs": []
    },
    {
      "cell_type": "code",
      "source": [
        "print('Training R2 Score:', r2_score(y_train, ridge_pred_tra))\n",
        "print('Testing R2 Score:', r2_score(y_test, ridge_pred_test))\n"
      ],
      "metadata": {
        "colab": {
          "base_uri": "https://localhost:8080/"
        },
        "id": "blBYBDaCvJaT",
        "outputId": "b57f4c50-1017-4c1c-d0ef-a54c223aae25"
      },
      "execution_count": 50,
      "outputs": [
        {
          "output_type": "stream",
          "name": "stdout",
          "text": [
            "Training R2 Score: 0.5537818217533376\n",
            "Testing R2 Score: 0.33106342873379846\n"
          ]
        }
      ]
    },
    {
      "cell_type": "code",
      "source": [
        "mse = cross_val_score(ridge, X, y, scoring='neg_mean_squared_error', cv=5)\n",
        "mse_avg = -np.mean(mse)\n",
        "print('MSE:', mse_avg)"
      ],
      "metadata": {
        "colab": {
          "base_uri": "https://localhost:8080/"
        },
        "id": "X7iQiQtzvKxz",
        "outputId": "e7b9cd70-04a0-4cbb-b8a1-f8c9ec1da00e"
      },
      "execution_count": 51,
      "outputs": [
        {
          "output_type": "stream",
          "name": "stdout",
          "text": [
            "MSE: 2993.6392915869556\n"
          ]
        }
      ]
    },
    {
      "cell_type": "code",
      "source": [
        "plt.figure(figsize=(10, 6))\n",
        "plt.bar(df.feature_names, ridge.coef_)\n",
        "plt.xlabel('Features')\n",
        "plt.ylabel('Coefficients')\n",
        "plt.title('Ridge Regression Coefficients')\n",
        "plt.xticks(rotation=45)"
      ],
      "metadata": {
        "colab": {
          "base_uri": "https://localhost:8080/",
          "height": 770
        },
        "id": "OLu190rsvObS",
        "outputId": "d7cce804-0adf-41ce-f8d8-5bd24f4d4bee"
      },
      "execution_count": 52,
      "outputs": [
        {
          "output_type": "execute_result",
          "data": {
            "text/plain": [
              "([0, 1, 2, 3, 4, 5, 6, 7, 8, 9],\n",
              " [Text(0, 0, 'age'),\n",
              "  Text(1, 0, 'sex'),\n",
              "  Text(2, 0, 'bmi'),\n",
              "  Text(3, 0, 'bp'),\n",
              "  Text(4, 0, 's1'),\n",
              "  Text(5, 0, 's2'),\n",
              "  Text(6, 0, 's3'),\n",
              "  Text(7, 0, 's4'),\n",
              "  Text(8, 0, 's5'),\n",
              "  Text(9, 0, 's6')])"
            ]
          },
          "metadata": {},
          "execution_count": 52
        },
        {
          "output_type": "display_data",
          "data": {
            "text/plain": [
              "<Figure size 1000x600 with 1 Axes>"
            ],
            "image/png": "[encoded data removed]"
          },
          "metadata": {}
        }
      ]
    },
    {
      "cell_type": "markdown",
      "source": [
        "# 2.5 Ridge Regression with GridSearchCV¶\n"
      ],
      "metadata": {
        "id": "BrPl6EQwvWSv"
      }
    },
    {
      "cell_type": "code",
      "source": [
        "parameters = {'alpha': [1e-15, 1e-10, 1e-8, 1e-3, 1e-2, 0.9, 0.8, 0.7, 0.5, 1, 5, 10, 20, 30, 35, 40, 45, 50, 55, 100]}\n",
        "ridge_regressor = GridSearchCV(ridge, parameters, scoring='neg_mean_squared_error', cv=5)\n",
        "ridge_regressor.fit(X, y)\n",
        "ridge_regressor.best_params_"
      ],
      "metadata": {
        "colab": {
          "base_uri": "https://localhost:8080/"
        },
        "id": "WmTNZr4JvRyA",
        "outputId": "025481f8-fc02-4a80-9017-828fa33e4983"
      },
      "execution_count": 53,
      "outputs": [
        {
          "output_type": "execute_result",
          "data": {
            "text/plain": [
              "{'alpha': 0.01}"
            ]
          },
          "metadata": {},
          "execution_count": 53
        }
      ]
    },
    {
      "cell_type": "code",
      "source": [
        "ridge_regressor_train = ridge_regressor.predict(X_train)\n",
        "print('Training R2 Score:', r2_score(y_train, ridge_regressor_train))\n",
        "\n",
        "ridge_regressor_test = ridge_regressor.predict(X_test)\n",
        "print('Testing R2 Score:', r2_score(y_test, ridge_regressor_test))"
      ],
      "metadata": {
        "colab": {
          "base_uri": "https://localhost:8080/"
        },
        "id": "dvG-5PuKvpsZ",
        "outputId": "1a8a2676-ddce-4f26-d6a8-b18019f5735a"
      },
      "execution_count": 54,
      "outputs": [
        {
          "output_type": "stream",
          "name": "stdout",
          "text": [
            "Training R2 Score: 0.5516133132973464\n",
            "Testing R2 Score: 0.3566492338345896\n"
          ]
        }
      ]
    },
    {
      "cell_type": "code",
      "source": [
        "mse = cross_val_score(ridge_regressor, X, y, scoring='neg_mean_squared_error', cv=5)\n",
        "mse_avg = -np.mean(mse)\n",
        "print('MSE:', mse_avg)"
      ],
      "metadata": {
        "colab": {
          "base_uri": "https://localhost:8080/"
        },
        "id": "EsOZ8yVJvy8y",
        "outputId": "2cc6489c-d018-4146-98cf-0af24888dd97"
      },
      "execution_count": 55,
      "outputs": [
        {
          "output_type": "stream",
          "name": "stdout",
          "text": [
            "MSE: 3002.829023569161\n"
          ]
        }
      ]
    },
    {
      "cell_type": "markdown",
      "source": [
        "#  Lasso Regression¶\n"
      ],
      "metadata": {
        "id": "FodoKM5lwDWQ"
      }
    },
    {
      "cell_type": "code",
      "source": [
        "lasso = Lasso()\n",
        "lasso.fit(X_train, y_train)\n",
        "lasso_pred_tra  = lasso.predict(X_train)\n",
        "lasso_pred_test = lasso.predict(X_test)\n",
        "print('Training R2 Score:', r2_score(y_train, lasso_pred_tra))\n",
        "print('Testing R2 Score:', r2_score(y_test, lasso_pred_test))"
      ],
      "metadata": {
        "colab": {
          "base_uri": "https://localhost:8080/"
        },
        "id": "6w4to1fjv3qu",
        "outputId": "b5e62c46-bd17-49ba-bd12-2196857252ee"
      },
      "execution_count": 56,
      "outputs": [
        {
          "output_type": "stream",
          "name": "stdout",
          "text": [
            "Training R2 Score: 0.5504972050568253\n",
            "Testing R2 Score: 0.3343586610242273\n"
          ]
        }
      ]
    },
    {
      "cell_type": "code",
      "source": [
        "mse = cross_val_score(lasso, X, y, scoring='neg_mean_squared_error', cv=5)\n",
        "mse_avg = -np.mean(mse)\n",
        "print('MSE:', mse_avg)"
      ],
      "metadata": {
        "colab": {
          "base_uri": "https://localhost:8080/"
        },
        "id": "aRT82MvwwJVP",
        "outputId": "bc9b5a97-3d6c-411e-e041-7fc005559519"
      },
      "execution_count": 57,
      "outputs": [
        {
          "output_type": "stream",
          "name": "stdout",
          "text": [
            "MSE: 2994.0754367613144\n"
          ]
        }
      ]
    },
    {
      "cell_type": "code",
      "source": [
        "plt.figure(figsize=(10, 6))\n",
        "plt.bar(df.feature_names, lasso.coef_)\n",
        "plt.xlabel('Features')\n",
        "plt.ylabel('Coefficients')\n",
        "plt.title('Lasso Regression Coefficients')\n",
        "plt.xticks(rotation=45)"
      ],
      "metadata": {
        "colab": {
          "base_uri": "https://localhost:8080/",
          "height": 770
        },
        "id": "PTh4TDJYwKnf",
        "outputId": "9a69fde8-0f8d-4907-972a-044896f85605"
      },
      "execution_count": 58,
      "outputs": [
        {
          "output_type": "execute_result",
          "data": {
            "text/plain": [
              "([0, 1, 2, 3, 4, 5, 6, 7, 8, 9],\n",
              " [Text(0, 0, 'age'),\n",
              "  Text(1, 0, 'sex'),\n",
              "  Text(2, 0, 'bmi'),\n",
              "  Text(3, 0, 'bp'),\n",
              "  Text(4, 0, 's1'),\n",
              "  Text(5, 0, 's2'),\n",
              "  Text(6, 0, 's3'),\n",
              "  Text(7, 0, 's4'),\n",
              "  Text(8, 0, 's5'),\n",
              "  Text(9, 0, 's6')])"
            ]
          },
          "metadata": {},
          "execution_count": 58
        },
        {
          "output_type": "display_data",
          "data": {
            "text/plain": [
              "<Figure size 1000x600 with 1 Axes>"
            ],
            "image/png": "[encoded data removed]"
          },
          "metadata": {}
        }
      ]
    },
    {
      "cell_type": "markdown",
      "source": [
        "# 2.7 Lasso Regression with GridSearchCV¶\n"
      ],
      "metadata": {
        "id": "WH3XkMZJwQw6"
      }
    },
    {
      "cell_type": "code",
      "source": [
        "param = {'alpha' : [1e-15, 1e-10, 1e-8, 1e-3, 1e-2, 0.9, 0.8, 0.7, 0.5, 1, 5, 10, 20, 30, 35, 40, 45, 50, 55, 100]}\n",
        "lasso_regressor = GridSearchCV(lasso, param, scoring='neg_mean_squared_error', cv=10)\n",
        "lasso_regressor.fit(X, y)\n",
        "lasso_regressor.best_params_"
      ],
      "metadata": {
        "colab": {
          "base_uri": "https://localhost:8080/"
        },
        "id": "8uqVMtfZwMhH",
        "outputId": "a703bef9-af72-462c-c9bc-b1ac545adf3a"
      },
      "execution_count": 59,
      "outputs": [
        {
          "output_type": "execute_result",
          "data": {
            "text/plain": [
              "{'alpha': 1}"
            ]
          },
          "metadata": {},
          "execution_count": 59
        }
      ]
    },
    {
      "cell_type": "code",
      "source": [
        "lasso_regressor_train = lasso_regressor.predict(X_train)\n",
        "print('Training R2 Score:', r2_score(y_train, lasso_regressor_train))\n",
        "\n",
        "lasso_regressor_test = lasso_regressor.predict(X_test)\n",
        "print('Testing R2 Score:', r2_score(y_test, lasso_regressor_test))"
      ],
      "metadata": {
        "colab": {
          "base_uri": "https://localhost:8080/"
        },
        "id": "xXPNXdRVwcsC",
        "outputId": "34b7b545-4b6a-4aa5-9b87-4bcfc3cc5b74"
      },
      "execution_count": 60,
      "outputs": [
        {
          "output_type": "stream",
          "name": "stdout",
          "text": [
            "Training R2 Score: 0.5468247485460189\n",
            "Testing R2 Score: 0.3537177789876116\n"
          ]
        }
      ]
    },
    {
      "cell_type": "code",
      "source": [
        "mse = cross_val_score(lasso_regressor, X, y, scoring='neg_mean_squared_error', cv=5)\n",
        "mse_avg = -np.mean(mse)\n",
        "print('MSE:', mse_avg)"
      ],
      "metadata": {
        "colab": {
          "base_uri": "https://localhost:8080/"
        },
        "id": "fixun8wQwiOR",
        "outputId": "667b8149-ae3f-4c10-d422-271a8db7559e"
      },
      "execution_count": 61,
      "outputs": [
        {
          "output_type": "stream",
          "name": "stdout",
          "text": [
            "MSE: 3006.7392542777184\n"
          ]
        }
      ]
    },
    {
      "cell_type": "markdown",
      "source": [
        "# 2.8 Elastic Net Regression¶\n"
      ],
      "metadata": {
        "id": "h-DNdmlCwk9H"
      }
    },
    {
      "cell_type": "code",
      "source": [
        "elestic =  ElasticNet()\n",
        "elestic.fit(X_train, y_train)\n",
        "elestic_pred_tra  = elestic.predict(X_train)\n",
        "elestic_pred_test = elestic.predict(X_test)\n",
        "\n",
        "print('Training R2 Score:', r2_score(y_train, elestic_pred_tra))\n",
        "print('Testing R2 Score:', r2_score(y_test, elestic_pred_test))"
      ],
      "metadata": {
        "colab": {
          "base_uri": "https://localhost:8080/"
        },
        "id": "Ezta_nCowjoB",
        "outputId": "1cc51fe8-3081-4638-bc10-912aa60de630"
      },
      "execution_count": 62,
      "outputs": [
        {
          "output_type": "stream",
          "name": "stdout",
          "text": [
            "Training R2 Score: 0.5192262848796967\n",
            "Testing R2 Score: 0.35694981646970236\n"
          ]
        }
      ]
    },
    {
      "cell_type": "code",
      "source": [
        "mse = cross_val_score(elestic, X, y, scoring='neg_mean_squared_error', cv=5)\n",
        "mse_avg = -np.mean(mse)\n",
        "print('MSE:', mse_avg)"
      ],
      "metadata": {
        "colab": {
          "base_uri": "https://localhost:8080/"
        },
        "id": "O0LvR1pnwuRp",
        "outputId": "ff7cb89a-3e6d-412d-dc05-2da264fbff57"
      },
      "execution_count": 63,
      "outputs": [
        {
          "output_type": "stream",
          "name": "stdout",
          "text": [
            "MSE: 3139.5926251283336\n"
          ]
        }
      ]
    },
    {
      "cell_type": "code",
      "source": [
        "plt.figure(figsize=(10, 6))\n",
        "plt.bar(df.feature_names, elestic.coef_)\n",
        "plt.xlabel('Features')\n",
        "plt.ylabel('Coefficients')\n",
        "plt.title('elestic Regression Coefficients')\n",
        "plt.xticks(rotation=45)"
      ],
      "metadata": {
        "colab": {
          "base_uri": "https://localhost:8080/",
          "height": 770
        },
        "id": "VGgpreeiw1Vi",
        "outputId": "0ec1c217-17d5-401e-b3a8-9949fe1585d4"
      },
      "execution_count": 64,
      "outputs": [
        {
          "output_type": "execute_result",
          "data": {
            "text/plain": [
              "([0, 1, 2, 3, 4, 5, 6, 7, 8, 9],\n",
              " [Text(0, 0, 'age'),\n",
              "  Text(1, 0, 'sex'),\n",
              "  Text(2, 0, 'bmi'),\n",
              "  Text(3, 0, 'bp'),\n",
              "  Text(4, 0, 's1'),\n",
              "  Text(5, 0, 's2'),\n",
              "  Text(6, 0, 's3'),\n",
              "  Text(7, 0, 's4'),\n",
              "  Text(8, 0, 's5'),\n",
              "  Text(9, 0, 's6')])"
            ]
          },
          "metadata": {},
          "execution_count": 64
        },
        {
          "output_type": "display_data",
          "data": {
            "text/plain": [
              "<Figure size 1000x600 with 1 Axes>"
            ],
            "image/png": "[encoded data removed]"
          },
          "metadata": {}
        }
      ]
    },
    {
      "cell_type": "markdown",
      "source": [
        "#  Elastic Net Regression with GridSearchCV¶\n"
      ],
      "metadata": {
        "id": "E4tE5jW6xQA0"
      }
    },
    {
      "cell_type": "code",
      "source": [
        "parameters = {'alpha' : [1e-15, 1e-10, 1e-8, 1e-3, 1e-2, 0.9, 0.8, 0.7, 0.5, 1, 5, 10, 20, 30, 35, 40, 45, 50, 55, 100]}\n",
        "enet_regressor = GridSearchCV(elestic, parameters, scoring='neg_mean_squared_error', cv=10)\n",
        "enet_regressor.fit(X, y)\n",
        "enet_regressor.best_params_"
      ],
      "metadata": {
        "colab": {
          "base_uri": "https://localhost:8080/"
        },
        "id": "18uWMcyMxMQw",
        "outputId": "65fa2ce8-d5cd-4f99-fda1-56c89411ea80"
      },
      "execution_count": 65,
      "outputs": [
        {
          "output_type": "execute_result",
          "data": {
            "text/plain": [
              "{'alpha': 0.01}"
            ]
          },
          "metadata": {},
          "execution_count": 65
        }
      ]
    },
    {
      "cell_type": "code",
      "source": [
        "enet_regressor_tra = enet_regressor.predict(X_train)\n",
        "print('Training R2 Score:', r2_score(y_train, enet_regressor_tra))\n",
        "\n",
        "\n",
        "enet_regressor_test = enet_regressor.predict(X_test)\n",
        "print('Testing R2 Score:', r2_score(y_test, enet_regressor_test))\n",
        "\n",
        "\n",
        "mse = cross_val_score(enet_regressor, X, y, scoring='neg_mean_squared_error', cv=5)\n",
        "mse_avg = -np.mean(mse)\n",
        "print('MSE:', mse_avg)"
      ],
      "metadata": {
        "colab": {
          "base_uri": "https://localhost:8080/"
        },
        "id": "F14HKgkhx-x2",
        "outputId": "7cae9326-ab5e-4bc1-df64-d601e5109373"
      },
      "execution_count": null,
      "outputs": [
        {
          "output_type": "stream",
          "name": "stdout",
          "text": [
            "Training R2 Score: 0.5514559091824043\n",
            "Testing R2 Score: 0.3542544398526638\n"
          ]
        }
      ]
    },
    {
      "cell_type": "markdown",
      "source": [
        "## Conclusion\n",
        "\n",
        "### Linear Regression\n",
        "- **Training accuracy:** 0.55393  \n",
        "- **Testing accuracy:** 0.33222  \n",
        "\n",
        "### Ridge Regression\n",
        "- **Training accuracy:** 0.55379  \n",
        "- **Testing accuracy:** 0.33105  \n",
        "\n",
        "### Ridge Regression with GridSearchCV\n",
        "- **Training accuracy:** 0.55126  \n",
        "- **Testing accuracy:** 0.33448  \n",
        "\n",
        "### Lasso Regression\n",
        "- **Training accuracy:** 0.5505  \n",
        "- **Testing accuracy:** 0.33435  \n",
        "\n",
        "### Lasso Regression with GridSearchCV\n",
        "- **Training accuracy:** 0.5505  \n",
        "- **Testing accuracy:** 0.33435  \n",
        "\n",
        "### Elastic Net Regression\n",
        "- **Training accuracy:** 0.51923  \n",
        "- **Testing accuracy:** 0.35694  \n",
        "\n",
        "### Elastic Net Regression with GridSearchCV\n",
        "- **Training accuracy:** 0.55358  \n",
        "- **Testing accuracy:** 0.33047  \n",
        "\n",
        "From the scores mentioned above, we see that **Elastic Net Regression** performs well. It reduces overfitting while increasing the testing accuracy.\n"
      ],
      "metadata": {
        "id": "T-ORJ5JFyftT"
      }
    },
    {
      "cell_type": "markdown",
      "source": [
        "# 🎯 What I Learned from This Notebook  \n",
        "\n",
        "## 🔹 1. Understanding Ridge, Lasso, and Elastic Net Regularization  \n",
        "✔ **Ridge Regression (L2 Regularization):**  \n",
        "   - Shrinks coefficients but **retains all features**.  \n",
        "   - Helps handle multicollinearity by distributing weights smoothly.  \n",
        "\n",
        "✔ **Lasso Regression (L1 Regularization):**  \n",
        "   - Shrinks some coefficients **to zero**, effectively performing **feature selection**.  \n",
        "   - Useful when some features are irrelevant or redundant.  \n",
        "\n",
        "✔ **Elastic Net (L1 + L2 Regularization):**  \n",
        "   - **Balances** between Ridge and Lasso.  \n",
        "   - Avoids Lasso’s over-shrinkage while still selecting important features.  \n",
        "\n",
        "---\n",
        "\n",
        "## 🔹 2. Using Cross-Validation to Optimize Mean Squared Error (MSE)  \n",
        "📌 **Why Cross-Validation?**  \n",
        "- Splits data into **multiple folds** to evaluate model performance.  \n",
        "- Helps prevent **overfitting** and ensures generalization to new data.  \n",
        "- The model is selected based on the **lowest Mean Squared Error (MSE)**.  \n",
        "\n",
        "📌 **How It Works:**  \n",
        "1. Divide data into **K folds**.  \n",
        "2. Train on **K-1 folds** and validate on the remaining fold.  \n",
        "3. Repeat the process for all folds and take the **average error**.  \n",
        "\n",
        "---\n",
        "\n",
        "## 🔹 3. Using Grid Search with Cross-Validation to Choose the Best Alpha  \n",
        "📌 **Why Use Grid Search?**  \n",
        "- Automates the search for the **best hyperparameter (alpha)**.  \n",
        "- Ensures we select the value that **minimizes error** and improves model performance.  \n",
        "\n",
        "📌 **How It Works:**  \n",
        "1. Define a range of **alpha** values.  \n",
        "2. Use **GridSearchCV** to test multiple values with **cross-validation**.  \n",
        "3. Pick the **optimal alpha** that results in the **best MSE**.  \n",
        "\n",
        "📌 **Final Goal:**  \n",
        "✅ A **well-tuned, high-performing model** that generalizes well to unseen data. 🚀  \n"
      ],
      "metadata": {
        "id": "B4C26kvA2Nql"
      }
    },
    {
      "cell_type": "code",
      "source": [],
      "metadata": {
        "id": "z0XGt1H8yTm7"
      },
      "execution_count": null,
      "outputs": []
    }
  ]
}
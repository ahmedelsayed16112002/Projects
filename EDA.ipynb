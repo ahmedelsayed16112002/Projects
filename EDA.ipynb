{
  "cells": [
    {
      "cell_type": "markdown",
      "metadata": {
        "id": "view-in-github",
        "colab_type": "text"
      },
      "source": [
        "<a href=\"https://colab.research.google.com/github/elmo7andes/Projects/blob/main/EDA.ipynb\" target=\"_parent\"><img src=\"https://colab.research.google.com/assets/colab-badge.svg\" alt=\"Open In Colab\"/></a>"
      ]
    },
    {
      "cell_type": "code",
      "execution_count": null,
      "id": "dad7b218-dbdd-44ed-901a-dc6c2b0acccf",
      "metadata": {
        "id": "dad7b218-dbdd-44ed-901a-dc6c2b0acccf"
      },
      "outputs": [],
      "source": [
        "import pandas as pd\n",
        "import numpy as np\n",
        "import matplotlib.pylab as plt\n",
        "import seaborn as sns\n",
        "plt.style.use('ggplot')\n",
        "pd.set_option('display.max_columns', 200)"
      ]
    },
    {
      "cell_type": "code",
      "execution_count": null,
      "id": "9839d2d4-77ff-4b5f-9755-45e3ce743495",
      "metadata": {
        "id": "9839d2d4-77ff-4b5f-9755-45e3ce743495"
      },
      "outputs": [],
      "source": [
        "df = pd.read_csv(r'/content/data.csv')\n",
        "df"
      ]
    },
    {
      "cell_type": "markdown",
      "id": "029cdef3-c53c-4d39-8737-d466491eb0e6",
      "metadata": {
        "id": "029cdef3-c53c-4d39-8737-d466491eb0e6"
      },
      "source": [
        "##  Data Understanding\n",
        "Dataframe shape\\\n",
        "head and tail\\\n",
        "dtypes\\\n",
        "describe"
      ]
    },
    {
      "cell_type": "code",
      "execution_count": null,
      "id": "fb0f80bd-1648-4142-9656-d65e37c3507a",
      "metadata": {
        "id": "fb0f80bd-1648-4142-9656-d65e37c3507a"
      },
      "outputs": [],
      "source": [
        "df.head()"
      ]
    },
    {
      "cell_type": "code",
      "execution_count": null,
      "id": "60dbe0ee-e63b-41aa-9da3-7dea3dd6ac20",
      "metadata": {
        "id": "60dbe0ee-e63b-41aa-9da3-7dea3dd6ac20"
      },
      "outputs": [],
      "source": [
        "df.shape"
      ]
    },
    {
      "cell_type": "code",
      "execution_count": null,
      "id": "41fa1296-55d2-4a25-bb9f-723d2cd9d217",
      "metadata": {
        "id": "41fa1296-55d2-4a25-bb9f-723d2cd9d217"
      },
      "outputs": [],
      "source": [
        "df.describe()"
      ]
    },
    {
      "cell_type": "code",
      "execution_count": null,
      "id": "9638462b-a73b-449a-9d89-89c558a65194",
      "metadata": {
        "id": "9638462b-a73b-449a-9d89-89c558a65194"
      },
      "outputs": [],
      "source": [
        "df.dtypes"
      ]
    },
    {
      "cell_type": "markdown",
      "id": "ca6be0e8-7917-41db-829e-e6865dc85ddd",
      "metadata": {
        "id": "ca6be0e8-7917-41db-829e-e6865dc85ddd"
      },
      "source": [
        "##  Data Preperation\n",
        "Dropping irrelevant columns and rows\\\n",
        "Identifying duplicated columns\\\n",
        "Renaming Columns\\\n",
        "Feature Creation"
      ]
    },
    {
      "cell_type": "code",
      "execution_count": null,
      "id": "098136cf-e8d3-4575-839e-3da38e112f3d",
      "metadata": {
        "id": "098136cf-e8d3-4575-839e-3da38e112f3d"
      },
      "outputs": [],
      "source": [
        "df = df[['coaster_name',\n",
        "    # 'Length', 'Speed',\n",
        "    'Location', 'Status',\n",
        "    # 'Opening date',\n",
        "    #   'Type',\n",
        "    'Manufacturer',\n",
        "#     'Height restriction', 'Model', 'Height',\n",
        "#        'Inversions', 'Lift/launch system', 'Cost', 'Trains', 'Park section',\n",
        "#        'Duration', 'Capacity', 'G-force', 'Designer', 'Max vertical angle',\n",
        "#        'Drop', 'Soft opening date', 'Fast Lane available', 'Replaced',\n",
        "#        'Track layout', 'Fastrack available', 'Soft opening date.1',\n",
        "#        'Closing date',\n",
        "#     'Opened',\n",
        "    # 'Replaced by', 'Website',\n",
        "#        'Flash Pass Available', 'Must transfer from wheelchair', 'Theme',\n",
        "#        'Single rider line available', 'Restraint Style',\n",
        "#        'Flash Pass available', 'Acceleration', 'Restraints', 'Name',\n",
        "       'year_introduced',\n",
        "        'latitude', 'longitude',\n",
        "    'Type_Main',\n",
        "       'opening_date_clean',\n",
        "    #'speed1', 'speed2', 'speed1_value', 'speed1_unit',\n",
        "       'speed_mph',\n",
        "    #'height_value', 'height_unit',\n",
        "    'height_ft',\n",
        "       'Inversions_clean', 'Gforce_clean']].copy()"
      ]
    },
    {
      "cell_type": "code",
      "execution_count": null,
      "id": "5de31717-d674-49fc-8370-3a6f16df2f4f",
      "metadata": {
        "id": "5de31717-d674-49fc-8370-3a6f16df2f4f"
      },
      "outputs": [],
      "source": [
        "df = df.rename(columns={'coaster_name':'Coaster_Name',\n",
        "                   'year_introduced':'Year_Introduced',\n",
        "                   'opening_date_clean':'Opening_Date',\n",
        "                   'speed_mph':'Speed_mph',\n",
        "                   'height_ft':'Height_ft',\n",
        "                   'Inversions_clean':'Inversions',\n",
        "                   'Gforce_clean':'Gforce'})"
      ]
    },
    {
      "cell_type": "code",
      "execution_count": null,
      "id": "73b0d685-0ba8-4b8c-9502-f0dd8aaf485c",
      "metadata": {
        "id": "73b0d685-0ba8-4b8c-9502-f0dd8aaf485c"
      },
      "outputs": [],
      "source": [
        "df.isna().sum()"
      ]
    },
    {
      "cell_type": "code",
      "execution_count": null,
      "id": "886d856b-c816-4c47-ae9e-52d2bc7bedd9",
      "metadata": {
        "id": "886d856b-c816-4c47-ae9e-52d2bc7bedd9"
      },
      "outputs": [],
      "source": [
        "df.loc[df.duplicated]"
      ]
    },
    {
      "cell_type": "code",
      "execution_count": null,
      "id": "1b541d25-3c1c-4c17-bfde-c7f8db132929",
      "metadata": {
        "id": "1b541d25-3c1c-4c17-bfde-c7f8db132929"
      },
      "outputs": [],
      "source": [
        "df[df['Coaster_Name'].duplicated(keep=False)].head()\n"
      ]
    },
    {
      "cell_type": "code",
      "execution_count": null,
      "id": "c048c94d-666c-4e35-8fc3-8c5bc5423060",
      "metadata": {
        "id": "c048c94d-666c-4e35-8fc3-8c5bc5423060"
      },
      "outputs": [],
      "source": [
        "df.query('Coaster_Name == \"Crystal Beach Cyclone\"')\n"
      ]
    },
    {
      "cell_type": "code",
      "execution_count": null,
      "id": "52a5378d-6224-4d07-8b49-94713c08efe7",
      "metadata": {
        "id": "52a5378d-6224-4d07-8b49-94713c08efe7"
      },
      "outputs": [],
      "source": [
        "df.columns"
      ]
    },
    {
      "cell_type": "markdown",
      "id": "cdf96c9c-d45b-4075-968f-5ae0c8173ebd",
      "metadata": {
        "id": "cdf96c9c-d45b-4075-968f-5ae0c8173ebd"
      },
      "source": [
        "## Step 3: Feature Understanding¶\n",
        "(Univariate analysis)\n",
        "\n",
        "Plotting Feature Distributions\\\n",
        "Histogram\\\n",
        "KDE\\\n",
        "Boxplot\\"
      ]
    },
    {
      "cell_type": "code",
      "execution_count": null,
      "id": "55039001-e43d-4ae6-9ea7-82bc24a315ad",
      "metadata": {
        "id": "55039001-e43d-4ae6-9ea7-82bc24a315ad"
      },
      "outputs": [],
      "source": [
        "df['Year_Introduced'].value_counts()\n"
      ]
    },
    {
      "cell_type": "code",
      "execution_count": null,
      "id": "78543648-934d-4f12-8ad1-cf7e4c3a837d",
      "metadata": {
        "id": "78543648-934d-4f12-8ad1-cf7e4c3a837d"
      },
      "outputs": [],
      "source": [
        "ax =  df['Year_Introduced'].value_counts().head(10).plot(kind = 'bar' , title='Top 10 Years Coasters Introduced')\n",
        "ax.set_xlabel('Year Introduced')\n",
        "ax.set_ylabel('Count')"
      ]
    },
    {
      "cell_type": "code",
      "execution_count": null,
      "id": "c138f1b7-a197-42d6-a33b-fc7957f850b3",
      "metadata": {
        "id": "c138f1b7-a197-42d6-a33b-fc7957f850b3"
      },
      "outputs": [],
      "source": [
        "ax = df['Speed_mph'].plot(kind = 'hist',bins = 20, title='Coaster Speed (mph)')\n",
        "ax.set_xlabel('Speed (mph)')"
      ]
    },
    {
      "cell_type": "code",
      "execution_count": null,
      "id": "ca0e31cc-9f26-491b-907b-33c8ed0eada8",
      "metadata": {
        "id": "ca0e31cc-9f26-491b-907b-33c8ed0eada8"
      },
      "outputs": [],
      "source": [
        "ax = df['Speed_mph'].plot(kind='kde',\n",
        "                          title='Coaster Speed (mph)')\n",
        "ax.set_xlabel('Speed (mph)')"
      ]
    },
    {
      "cell_type": "code",
      "execution_count": null,
      "id": "5977d7f9-dc43-4eda-95d3-b8b352e71927",
      "metadata": {
        "id": "5977d7f9-dc43-4eda-95d3-b8b352e71927"
      },
      "outputs": [],
      "source": [
        "df['Type_Main'].value_counts()\n"
      ]
    },
    {
      "cell_type": "markdown",
      "id": "82c75fbe-5091-4ea5-b7a4-096bec7d5c52",
      "metadata": {
        "id": "82c75fbe-5091-4ea5-b7a4-096bec7d5c52"
      },
      "source": [
        "## Feature Relationships¶\n",
        "Scatterplot\\\n",
        "Heatmap Correlation\\\n",
        "Pairplot\\\n",
        "Groupby comparisons\\"
      ]
    },
    {
      "cell_type": "code",
      "execution_count": null,
      "id": "b8ff86ab-5211-4876-9673-be7ef509e2b1",
      "metadata": {
        "id": "b8ff86ab-5211-4876-9673-be7ef509e2b1"
      },
      "outputs": [],
      "source": [
        "df.plot(kind = 'scatter', x='Speed_mph',\n",
        "        y='Height_ft',\n",
        "        title='Coaster Speed vs. Height')"
      ]
    },
    {
      "cell_type": "code",
      "execution_count": null,
      "id": "1343526a-31fa-42ce-a09c-66a84fc6585e",
      "metadata": {
        "id": "1343526a-31fa-42ce-a09c-66a84fc6585e"
      },
      "outputs": [],
      "source": [
        "ax = sns.scatterplot(x='Speed_mph',\n",
        "                y='Height_ft',\n",
        "                hue='Year_Introduced',\n",
        "                data=df)\n",
        "ax.set_title('Coaster Speed vs. Height')\n",
        "plt.show()"
      ]
    },
    {
      "cell_type": "code",
      "execution_count": null,
      "id": "4fe97e9d-636f-4789-bba1-377e1121334c",
      "metadata": {
        "id": "4fe97e9d-636f-4789-bba1-377e1121334c"
      },
      "outputs": [],
      "source": [
        "sns.pairplot(df,\n",
        "             vars=['Year_Introduced','Speed_mph',\n",
        "                   'Height_ft','Inversions','Gforce'],\n",
        "            hue='Type_Main')\n"
      ]
    },
    {
      "cell_type": "code",
      "execution_count": null,
      "id": "658d10b6-322c-4115-b306-5e836bbfa3d8",
      "metadata": {
        "id": "658d10b6-322c-4115-b306-5e836bbfa3d8"
      },
      "outputs": [],
      "source": [
        "df_corr = df[['Year_Introduced','Speed_mph',\n",
        "    'Height_ft','Inversions','Gforce']].dropna().corr()\n",
        "df_corr"
      ]
    },
    {
      "cell_type": "code",
      "execution_count": null,
      "id": "d24c3b47-ca67-4a86-a3d8-05408d175c07",
      "metadata": {
        "id": "d24c3b47-ca67-4a86-a3d8-05408d175c07"
      },
      "outputs": [],
      "source": [
        "sns.heatmap(df_corr, annot=True)"
      ]
    },
    {
      "cell_type": "code",
      "execution_count": null,
      "id": "865379fc-1f5f-4b2e-b5b8-e753ba27ad15",
      "metadata": {
        "id": "865379fc-1f5f-4b2e-b5b8-e753ba27ad15"
      },
      "outputs": [],
      "source": []
    }
  ],
  "metadata": {
    "kernelspec": {
      "display_name": "Python 3 (ipykernel)",
      "language": "python",
      "name": "python3"
    },
    "language_info": {
      "codemirror_mode": {
        "name": "ipython",
        "version": 3
      },
      "file_extension": ".py",
      "mimetype": "text/x-python",
      "name": "python",
      "nbconvert_exporter": "python",
      "pygments_lexer": "ipython3",
      "version": "3.11.4"
    },
    "colab": {
      "provenance": [],
      "include_colab_link": true
    }
  },
  "nbformat": 4,
  "nbformat_minor": 5
}
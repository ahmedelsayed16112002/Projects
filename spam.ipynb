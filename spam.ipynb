{
  "cells": [
    {
      "cell_type": "markdown",
      "metadata": {
        "id": "view-in-github",
        "colab_type": "text"
      },
      "source": [
        "<a href=\"https://colab.research.google.com/github/elmo7andes/OIBSIP/blob/main/spam.ipynb\" target=\"_parent\"><img src=\"https://colab.research.google.com/assets/colab-badge.svg\" alt=\"Open In Colab\"/></a>"
      ]
    },
    {
      "cell_type": "code",
      "execution_count": 11,
      "metadata": {
        "id": "Kvu_AnXLkEh9"
      },
      "outputs": [],
      "source": [
        "import pandas as pd\n",
        "import numpy as np"
      ]
    },
    {
      "cell_type": "code",
      "execution_count": 12,
      "metadata": {
        "id": "PFrMXBdrkLaU"
      },
      "outputs": [],
      "source": [
        "df = pd.read_csv(\"/content/sample_data/spam.csv\", encoding='latin-1')"
      ]
    },
    {
      "cell_type": "code",
      "execution_count": 13,
      "metadata": {
        "id": "EU8A7OJVkbQL"
      },
      "outputs": [],
      "source": [
        "df.drop(columns = [\"Unnamed: 2\",\"Unnamed: 3\",\"Unnamed: 4\"],inplace=True)"
      ]
    },
    {
      "cell_type": "code",
      "execution_count": 14,
      "metadata": {
        "colab": {
          "base_uri": "https://localhost:8080/"
        },
        "id": "cxJ0_sRCmlnZ",
        "outputId": "995c8a49-68c9-4bb9-d17e-f068fb11af4d"
      },
      "outputs": [
        {
          "output_type": "execute_result",
          "data": {
            "text/plain": [
              "Index(['v1', 'v2'], dtype='object')"
            ]
          },
          "metadata": {},
          "execution_count": 14
        }
      ],
      "source": [
        "df.columns"
      ]
    },
    {
      "cell_type": "code",
      "execution_count": 15,
      "metadata": {
        "id": "-1eLTd6WnFji"
      },
      "outputs": [],
      "source": [
        "# one_hot_encoding\n",
        "dummy = pd.get_dummies(df[\"v1\"])\n",
        "df.drop(columns = \"v1\",inplace = True)\n",
        "df_to_concat = [df,dummy]\n",
        "concat_df = pd.concat(df_to_concat,axis = 1)\n",
        "\n",
        "\n"
      ]
    },
    {
      "cell_type": "code",
      "execution_count": 27,
      "metadata": {
        "colab": {
          "base_uri": "https://localhost:8080/"
        },
        "id": "QCJX60Kzl28Y",
        "outputId": "1f0a4774-efb0-49b8-d3f0-8de5287efe94"
      },
      "outputs": [
        {
          "output_type": "stream",
          "name": "stdout",
          "text": [
            "Accuracy: 0.9706937799043063\n"
          ]
        }
      ],
      "source": [
        "# logistic_regression_model\n",
        "from sklearn.linear_model import LogisticRegression\n",
        "from sklearn.metrics import mean_squared_error\n",
        "from sklearn.model_selection import train_test_split\n",
        "from sklearn.feature_extraction.text import TfidfVectorizer\n",
        "from sklearn.metrics import accuracy_score\n",
        "tfidf_vectorizer = TfidfVectorizer(max_features=1000)\n",
        "x = tfidf_vectorizer.fit_transform(concat_df['v2'])\n",
        "y = concat_df['ham'].replace({0: 'ham', 1: 'spam'})  # Replace 0 with 'ham' and 1 with 'spam'\n",
        "\n",
        "x_train, x_test, y_train, y_test = train_test_split(x, y, test_size=0.3)\n",
        "\n",
        "model = LogisticRegression()\n",
        "model.fit(x_train, y_train)\n",
        "y_hat = model.predict(x_test)\n",
        "\n",
        "#Evaluation\n",
        "accuracy = accuracy_score(y_test, y_hat)\n",
        "print(\"Accuracy:\", accuracy)\n",
        "\n"
      ]
    },
    {
      "cell_type": "code",
      "source": [],
      "metadata": {
        "id": "ar3hM_Tj9UWy"
      },
      "execution_count": null,
      "outputs": []
    }
  ],
  "metadata": {
    "colab": {
      "provenance": [],
      "authorship_tag": "ABX9TyMjxU5VqqALuwis/14srzWO",
      "include_colab_link": true
    },
    "kernelspec": {
      "display_name": "Python 3",
      "name": "python3"
    },
    "language_info": {
      "name": "python"
    }
  },
  "nbformat": 4,
  "nbformat_minor": 0
}